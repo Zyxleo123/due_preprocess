{
 "cells": [
  {
   "cell_type": "code",
   "execution_count": null,
   "metadata": {
    "collapsed": false
   },
   "outputs": [],
   "source": [
    "# test integrity of the jsons, images, and index files that is located in Deepform's data folder\n",
    "# Integrity such as the number of jsons, images, and index files should be the same\n",
    "import os\n",
    "import json\n",
    "dataset_name_set = (\"infographics_vqa\", \"DeepForm\", \"TabFact\")\n",
    "dataset_name = dataset_name_set[0]\n",
    "directory = os.path.join(dataset_name)\n",
    "file_names = os.listdir(os.path.join(directory, \"jsons\"))\n",
    "json_num = len(file_names)\n",
    "with open(os.path.join(directory, directory+\".all.txt\")) as index_file:\n",
    "    index_num = len(index_file.readlines())\n",
    "print(\"json_num: \", json_num)\n",
    "print(\"index_num: \", index_num)\n"
   ]
  },
  {
   "cell_type": "code",
   "execution_count": null,
   "metadata": {
    "collapsed": false
   },
   "outputs": [],
   "source": [
    "# Now test if each line of the index file is unique\n",
    "# And if each line of the index file indicates a json file and a image that exists\n",
    "import os\n",
    "from tqdm import tqdm\n",
    "with open(os.path.join(directory, directory+\".all.txt\")) as index_file:\n",
    "    lines = index_file.readlines()\n",
    "    # Check if all lines are unique\n",
    "    for line in tqdm(lines):\n",
    "        line = line.strip()\n",
    "        if lines.count(line) > 1:\n",
    "            print(\"line is not unique: \", line)\n",
    "    for line in tqdm(lines):\n",
    "        line = line.strip()\n",
    "        img_file_path, json_file_path = line.split(\"\\t\")\n",
    "        if not os.path.exists(json_file_path):\n",
    "            print(\"json file does not exist: \", json_file_path)\n",
    "        if not os.path.exists(img_file_path):\n",
    "            print(\"image file does not exist: \", img_file_path)"
   ]
  }
 ],
 "metadata": {
  "kernelspec": {
   "display_name": "Python 3",
   "language": "python",
   "name": "python3"
  },
  "language_info": {
   "codemirror_mode": {
    "name": "ipython",
    "version": 3
   },
   "file_extension": ".py",
   "mimetype": "text/x-python",
   "name": "python",
   "nbconvert_exporter": "python",
   "pygments_lexer": "ipython3",
   "version": "3.9.18"
  }
 },
 "nbformat": 4,
 "nbformat_minor": 0
}
