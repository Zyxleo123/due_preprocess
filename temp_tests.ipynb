{
 "cells": [
  {
   "cell_type": "code",
   "execution_count": null,
   "metadata": {},
   "outputs": [],
   "source": [
    "import TatDqaProcessor\n",
    "import importlib\n",
    "importlib.reload(TatDqaProcessor)\n",
    "import os\n",
    "import json\n",
    "p = TatDqaProcessor.TatDqaProcessor()\n",
    "p.combine_jsons_into_jsonl(os.path.join(\"TatDqa\", \"dev\", \"raw\"), os.path.join(\"TatDqa\", \"dev\"))\n",
    "with open(os.path.join(\"TatDqa\", \"dev\", \"documents_content.jsonl\")) as f:\n",
    "    for line in f:\n",
    "        json.loads(line)"
   ]
  }
 ],
 "metadata": {
  "language_info": {
   "name": "python"
  },
  "orig_nbformat": 4
 },
 "nbformat": 4,
 "nbformat_minor": 2
}
