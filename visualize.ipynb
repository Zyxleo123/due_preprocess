{
 "cells": [
  {
   "cell_type": "code",
   "execution_count": 22,
   "metadata": {
    "collapsed": true
   },
   "outputs": [
    {
     "name": "stdout",
     "output_type": "stream",
     "text": [
      "illegal segment order\n"
     ]
    }
   ],
   "source": [
    "import Visualize.visualizer\n",
    "from Visualize.visualizer import Visualizer\n",
    "import importlib\n",
    "importlib.reload(Visualize.visualizer)\n",
    "import json\n",
    "import os\n",
    "import random\n",
    "dataset_name_set = (\"infographics_vqa\", \"DeepForm\", \"TabFact\")\n",
    "dataset_name = dataset_name_set[0]\n",
    "jsons_dir = os.path.join(dataset_name, \"jsons\")\n",
    "all_jsons = os.listdir(jsons_dir)\n",
    "path = os.path.join(\"\", \"test.json\")\n",
    "json_file = open(os.path.join(jsons_dir, all_jsons[random.randint(0, len(all_jsons))]))\n",
    "json_obj = json.load(json_file)\n",
    "json_obj = json_obj[\"input\"]\n",
    "image_name = json_obj[\"img\"][\"fname\"]\n",
    "image_path = os.path.join(dataset_name, \"images\", image_name)\n",
    "v = Visualizer()\n",
    "v.visualize(\n",
    "    json_obj,\n",
    "    save_path= f\"{image_name}\",\n",
    "    use_image=True,\n",
    "    image_path=image_path,\n",
    "    use_word=True,\n",
    "    use_entity_text=False,\n",
    "    use_entity_type=False,\n",
    "    use_order=False)"
   ]
  },
  {
   "cell_type": "code",
   "execution_count": null,
   "metadata": {
    "collapsed": false
   },
   "outputs": [],
   "source": []
  },
  {
   "cell_type": "code",
   "execution_count": null,
   "metadata": {
    "collapsed": false
   },
   "outputs": [],
   "source": []
  }
 ],
 "metadata": {
  "kernelspec": {
   "display_name": "Python 3",
   "language": "python",
   "name": "python3"
  },
  "language_info": {
   "codemirror_mode": {
    "name": "ipython",
    "version": 3
   },
   "file_extension": ".py",
   "mimetype": "text/x-python",
   "name": "python",
   "nbconvert_exporter": "python",
   "pygments_lexer": "ipython3",
   "version": "3.9.18"
  }
 },
 "nbformat": 4,
 "nbformat_minor": 0
}
